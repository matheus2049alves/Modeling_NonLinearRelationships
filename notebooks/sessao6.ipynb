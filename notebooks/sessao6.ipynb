{
 "cells": [
  {
   "cell_type": "markdown",
   "id": "cc54f8b3",
   "metadata": {},
   "source": [
    "### 🧠 Seção 6: O Ajuste de Curvas Clássico com `scipy`\n",
    "\n",
    "Agora que entendemos o \"quê\" e o \"porquê\", vamos ao \"como\". Nesta seção, vamos usar a principal ferramenta do Python para ajuste de curvas, `scipy.optimize.curve_fit`, para encontrar os parâmetros de um modelo teórico que descreve um fenômeno de crescimento.\n",
    "\n",
    "#### 6.1. Cenário: Modelando Crescimento com Saturação (Curva Logística)\n",
    "\n",
    "Muitos processos na natureza não crescem indefinidamente. Eles começam devagar, aceleram e depois desaceleram à medida que se aproximam de um limite máximo (saturação). Pense na proliferação de uma cultura de bactérias em uma placa de Petri, na disseminação de uma notícia em uma rede social ou na adoção de uma nova tecnologia no mercado.\n",
    "\n",
    "Este processo é frequentemente descrito pela **função logística** ou **curva sigmoidal**:\n",
    "\n",
    "$$ y(x) = \\frac{L}{1 + e^{-k(x-x_0)}} $$\n",
    "\n",
    "Diferente dos modelos da Parte I, aqui os parâmetros têm uma interpretação física direta:\n",
    "* **$L$**: O **limite máximo** da curva (a \"capacidade de carga\" ou o valor de saturação).\n",
    "* **$x_0$**: O **ponto médio** da curva (o ponto no eixo X onde a curva atinge $L/2$ e o crescimento é mais rápido).\n",
    "* **$k$**: A **taxa de crescimento** ou a \"inclinação\" da curva.\n",
    "\n",
    "Nosso objetivo é usar um conjunto de dados \"experimentais\" para estimar os valores verdadeiros de $L, k$ e $x_0$.\n",
    "\n",
    "Primeiro, vamos definir e gerar os dados para este cenário."
   ]
  },
  {
   "cell_type": "code",
   "execution_count": 1,
   "id": "14b6d334",
   "metadata": {},
   "outputs": [
    {
     "ename": "NameError",
     "evalue": "name 'np' is not defined",
     "output_type": "error",
     "traceback": [
      "\u001b[1;31m---------------------------------------------------------------------------\u001b[0m",
      "\u001b[1;31mNameError\u001b[0m                                 Traceback (most recent call last)",
      "Cell \u001b[1;32mIn[1], line 20\u001b[0m\n\u001b[0;32m     17\u001b[0m x0_real \u001b[38;5;241m=\u001b[39m \u001b[38;5;241m50.0\u001b[39m  \u001b[38;5;66;03m# O crescimento atinge o pico no tempo x=50\u001b[39;00m\n\u001b[0;32m     19\u001b[0m \u001b[38;5;66;03m# Gerar o eixo X (ex: 100 dias de observação)\u001b[39;00m\n\u001b[1;32m---> 20\u001b[0m x_data \u001b[38;5;241m=\u001b[39m \u001b[43mnp\u001b[49m\u001b[38;5;241m.\u001b[39mlinspace(\u001b[38;5;241m0\u001b[39m, \u001b[38;5;241m100\u001b[39m, \u001b[38;5;241m100\u001b[39m)\n\u001b[0;32m     22\u001b[0m \u001b[38;5;66;03m# Calcular os valores de Y usando o modelo e os parâmetros reais\u001b[39;00m\n\u001b[0;32m     23\u001b[0m y_real \u001b[38;5;241m=\u001b[39m modelo_logistico(x_data, L_real, k_real, x0_real)\n",
      "\u001b[1;31mNameError\u001b[0m: name 'np' is not defined"
     ]
    }
   ],
   "source": [
    "# Importar a biblioteca de otimização do SciPy\n",
    "from scipy.optimize import curve_fit\n",
    "\n",
    "# 1. Definir a função do nosso modelo teórico\n",
    "def modelo_logistico(x, L, k, x0):\n",
    "    \"\"\"\n",
    "    Função logística com parâmetros:\n",
    "    L: Valor máximo\n",
    "    k: Taxa de crescimento\n",
    "    x0: Ponto médio\n",
    "    \"\"\"\n",
    "    return L / (1 + np.exp(-k * (x - x0)))\n",
    "\n",
    "# 2. Definir os parâmetros \"reais\" para gerar nossos dados\n",
    "L_real = 120.0  # Limite máximo de 120 unidades\n",
    "k_real = 0.2    # Taxa de crescimento\n",
    "x0_real = 50.0  # O crescimento atinge o pico no tempo x=50\n",
    "\n",
    "# Gerar o eixo X (ex: 100 dias de observação)\n",
    "x_data = np.linspace(0, 100, 100)\n",
    "\n",
    "# Calcular os valores de Y usando o modelo e os parâmetros reais\n",
    "y_real = modelo_logistico(x_data, L_real, k_real, x0_real)\n",
    "\n",
    "# Adicionar ruído para simular dados experimentais\n",
    "ruido = np.random.normal(0, 3.5, size=x_data.size)\n",
    "y_data = y_real + ruido\n",
    "\n",
    "# 3. Visualizar nossos dados \"experimentais\"\n",
    "plt.figure(figsize=(12, 7))\n",
    "sns.scatterplot(x=x_data, y=y_data, label='Dados Experimentais')\n",
    "plt.title('Dados de Crescimento Logístico com Ruído', fontsize=16)\n",
    "plt.xlabel('Tempo (dias)', fontsize=12)\n",
    "plt.ylabel('População / Vendas', fontsize=12)\n",
    "plt.legend()\n",
    "plt.grid(True)\n",
    "plt.show()"
   ]
  },
  {
   "cell_type": "markdown",
   "id": "c2b2a212",
   "metadata": {},
   "source": [
    "#### 6.2. Ajuste com `curve_fit` e a Importância das Estimativas Iniciais (`p0`)\n",
    "\n",
    "O algoritmo por trás do `curve_fit` é um otimizador que precisa de um ponto de partida para começar sua busca pelos melhores parâmetros. Para funções simples, ele geralmente se vira bem sozinho. Mas para modelos com múltiplos parâmetros, como o nosso, um \"chute\" inicial ruim pode fazer com que o algoritmo não encontre a solução correta (não \"convirja\").\n",
    "\n",
    "Felizmente, podemos guiar o otimizador fornecendo estimativas iniciais (`p0`), que podemos extrair simplesmente olhando para o gráfico:\n",
    "* **Estimativa para `L`**: O valor máximo que os dados atingem. Olhando o gráfico, parece ser em torno de 120.\n",
    "* **Estimativa para `x0`**: O valor de `x` onde a curva parece estar na metade da sua altura máxima (metade de 120, ou 60). Olhando o gráfico, isso acontece perto de `x=50`.\n",
    "* **Estimativa para `k`**: Esta é a mais difícil de estimar visualmente, mas ela representa a inclinação. Um valor pequeno e positivo como `0.1` ou `0.2` é um bom chute inicial.\n",
    "\n",
    "Vamos fornecer essas dicas ao `curve_fit` para garantir um bom resultado."
   ]
  },
  {
   "cell_type": "code",
   "execution_count": null,
   "id": "520c3620",
   "metadata": {},
   "outputs": [],
   "source": [
    "# 1. Definir nossas estimativas iniciais (p0)\n",
    "#          [L,   k,   x0]\n",
    "p0 = [120.0, 0.2, 50.0]\n",
    "\n",
    "# 2. Usar curve_fit com as estimativas iniciais\n",
    "# popt: contém os parâmetros ótimos encontrados\n",
    "# pcov: contém a matriz de covariância, que usaremos para estimar o erro\n",
    "popt, pcov = curve_fit(modelo_logistico, x_data, y_data, p0=p0)\n",
    "\n",
    "# 3. Extrair os parâmetros e seus erros\n",
    "L_est, k_est, x0_est = popt\n",
    "erros = np.sqrt(np.diag(pcov))\n",
    "L_err, k_err, x0_err = erros\n",
    "\n",
    "# 4. Apresentar os resultados de forma clara\n",
    "print(\"--- Resultados do Ajuste Não-Linear ---\")\n",
    "print(f\"Parâmetro L (Limite Máximo): {L_est:.2f} ± {L_err:.2f} (Real: {L_real})\")\n",
    "print(f\"Parâmetro k (Taxa de Crescimento): {k_est:.3f} ± {k_err:.3f} (Real: {k_real})\")\n",
    "print(f\"Parâmetro x0 (Ponto Médio): {x0_est:.2f} ± {x0_err:.2f} (Real: {x0_real})\")\n",
    "print(\"\\nOs valores estimados são muito próximos dos valores reais!\")\n",
    "\n",
    "# 5. Visualizar o ajuste final\n",
    "plt.figure(figsize=(12, 7))\n",
    "sns.scatterplot(x=x_data, y=y_data, label='Dados Experimentais', alpha=0.7)\n",
    "plt.plot(x_data, modelo_logistico(x_data, *popt), color='red', linewidth=3, label='Curva Ajustada')\n",
    "plt.title('Ajuste do Modelo Logístico aos Dados', fontsize=16)\n",
    "plt.xlabel('Tempo (dias)', fontsize=12)\n",
    "plt.ylabel('População / Vendas', fontsize=12)\n",
    "plt.legend()\n",
    "plt.grid(True)\n",
    "plt.show()"
   ]
  }
 ],
 "metadata": {
  "kernelspec": {
   "display_name": "no_linear",
   "language": "python",
   "name": "python3"
  },
  "language_info": {
   "codemirror_mode": {
    "name": "ipython",
    "version": 3
   },
   "file_extension": ".py",
   "mimetype": "text/x-python",
   "name": "python",
   "nbconvert_exporter": "python",
   "pygments_lexer": "ipython3",
   "version": "3.9.21"
  }
 },
 "nbformat": 4,
 "nbformat_minor": 5
}
